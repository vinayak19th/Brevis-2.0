{
 "cells": [
  {
   "cell_type": "code",
   "execution_count": 1,
   "id": "emotional-brighton",
   "metadata": {},
   "outputs": [],
   "source": [
    "from newspaper import Article"
   ]
  },
  {
   "cell_type": "code",
   "execution_count": 7,
   "id": "functional-vertex",
   "metadata": {},
   "outputs": [],
   "source": [
    "article=Article('https://www.huffpost.com/entry/tucker-carlson-joe-biden-fox-news-chyron_n_604adcccc5b60e0725f60f89', keep_article_html=True)\n",
    "article.download()\n",
    "article.parse()\n",
    "text1 = article.text"
   ]
  },
  {
   "cell_type": "code",
   "execution_count": 8,
   "id": "facial-hampshire",
   "metadata": {},
   "outputs": [],
   "source": [
    "article=Article('https://www.news18.com/news/politics/mk-stalin-balances-key-issues-populism-and-vendetta-politics-in-dmk-manifesto-3530738.html', keep_article_html=True)\n",
    "article.download()\n",
    "article.parse()\n",
    "text2 = article.text"
   ]
  },
  {
   "cell_type": "code",
   "execution_count": 11,
   "id": "defined-emission",
   "metadata": {},
   "outputs": [],
   "source": [
    "from transformers import BartTokenizer\n",
    "model = \"facebook/bart-large-xsum\"\n",
    "tokenizer = BartTokenizer.from_pretrained(model)"
   ]
  },
  {
   "cell_type": "code",
   "execution_count": null,
   "id": "neutral-manitoba",
   "metadata": {},
   "outputs": [],
   "source": [
    "token."
   ]
  },
  {
   "cell_type": "code",
   "execution_count": 10,
   "id": "magnetic-contact",
   "metadata": {},
   "outputs": [
    {
     "name": "stdout",
     "output_type": "stream",
     "text": [
      "DMK President and chief ministerial candidate MK Stalin on Saturday unveiled a dynamically progressive poll manifesto that included populist dole, symbolism, social justice measures, counter to price infraction, with a vow to probe the Palaniswami Government for corruption.\n",
      "\n",
      "MK Stalin promised to slash petrol prices by Rs 5 a litre, and diesel by Rs 4, dealing straightaway a near 4-5 per cent cut to the prevailing rates. Fuel rates in the southern city have skyrocketed over the last twelve months close to Rs 94/litre from around Rs 72.5. Diesel had followed a similar trend too, attributed to better rates for crude oil and continuing higher tax rates by state and central governments.\n",
      "\n",
      "Stalin also promised to reduce milk prices by Rs 3/litre. The Tamil Nadu government had increased prices of milk by Rs 6 a litre in August 2019. DMK promised to icentivise cooking gas by around Rs 100 a unit of cylinder, all of which attempts to alleviate growing concerns around higher prices of essential commodities.\n",
      "\n",
      "Heeding to a state-wide call towards some sort of relief in the post-pandemic scenario, Stalin has promised Rs 4,000 for every rice ration card holder. This goes beyond his recent announcement of Rs 1,000 a month for housewives.\n",
      "\n",
      "Touching upon another sensitive issue in the state, Stalin vowed to pass a law in the first Assembly proceeding scrapping the national medical entrance test NEET. Over the last three years, the medical test has been a deeply divisive issue, with a spate of suicides by aspirants bringing out the travails of a segment of rural students.\n",
      "\n",
      "Tamil Nadu parties, including the ruling AIADMK, has been opposed to NEET on grounds that it went against social justice, the backward classes and interests of rural students who could not afford coaching classes.\n",
      "\n",
      "Just when it was assumed that vendetta politics had been laid to rest with the demise of M Karunanidhi and J Jayalalithaa, Stalin’s manifesto proved otherwise: the manifesto includes a special court to try the AIADMK government for corruption and other charges. Last year, MK Stalin submitted a petition to Governor Purohit levelling corruption against Chief Minister Edappadi K Palaniwami and other Ministers and urged the Governor to take action against the AIADMK Ministers.\n",
      "\n",
      "AIADMK deputy coordinator and Chief Minister Edappadi Palaniswami responded to DMK’s manifesto by saying the people should wait for the party’s manifesto, and that it would win the majority of the seats.\n",
      "\n",
      "Here are some of the highlights from Stalin’s manifesto for the 2021 Assembly Elections:\n",
      "\n",
      "• Tablet computer for students studying in government schools.\n",
      "\n",
      "• Plan to set-up 500 Kalaignar Unavagams (low-cost canteens).\n",
      "\n",
      "• Live telecasting of state assembly proceedings.\n",
      "\n",
      "• Over 2 lakh homes to be built for fisherfolk.\n",
      "\n",
      "• Expressways to be built in several urban areas.\n",
      "\n",
      "• Relief and rehabilitation fund for elderly, those in palliative care.\n",
      "\n",
      "• Cooperative loans taken by Women Self-Help Groups to be waived off.\n",
      "\n",
      "• Tamil Nadu river preservation project to be enhanced.\n",
      "\n",
      "• Over 250 priests to be immediately employed under the state scheme to induct people from all castes into priesthood.\n",
      "\n",
      "• Jayalalithaa death probe under Justice A Arumghaswamy to be put on fast-track.\n",
      "\n",
      "• Rs 10,000 Grant for autorickshaw drivers to purchase vehicles of their own.\n",
      "\n",
      "• Small farmers to get Rs 10,000 grant to purchase motors.\n",
      "\n",
      "• The farmers’ market (Uzhavar Sandhai) scheme to be revived and expanded into other cities.\n"
     ]
    }
   ],
   "source": [
    "print(text2)"
   ]
  },
  {
   "cell_type": "code",
   "execution_count": null,
   "id": "important-mumbai",
   "metadata": {},
   "outputs": [],
   "source": []
  }
 ],
 "metadata": {
  "kernelspec": {
   "display_name": "Python 3.7.7 64-bit ('tf': conda)",
   "language": "python",
   "name": "python37764bittfconda3127da3a25d3456c9b2a2afff104cd23"
  },
  "language_info": {
   "codemirror_mode": {
    "name": "ipython",
    "version": 3
   },
   "file_extension": ".py",
   "mimetype": "text/x-python",
   "name": "python",
   "nbconvert_exporter": "python",
   "pygments_lexer": "ipython3",
   "version": "3.8.8"
  }
 },
 "nbformat": 4,
 "nbformat_minor": 5
}
