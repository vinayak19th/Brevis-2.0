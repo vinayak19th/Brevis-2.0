{
 "cells": [
  {
   "cell_type": "code",
   "execution_count": 7,
   "metadata": {},
   "outputs": [],
   "source": [
    "from transformers import BartTokenizer\n",
    "import requests\n",
    "import json\n",
    "import numpy as np"
   ]
  },
  {
   "cell_type": "code",
   "execution_count": 8,
   "metadata": {},
   "outputs": [],
   "source": [
    "model = \"facebook/bart-large-xsum\"\n",
    "tokenizer = BartTokenizer.from_pretrained(model)"
   ]
  },
  {
   "cell_type": "code",
   "execution_count": null,
   "metadata": {},
   "outputs": [],
   "source": []
  },
  {
   "cell_type": "code",
   "execution_count": 9,
   "metadata": {},
   "outputs": [],
   "source": [
    "text = \"Jammu and Kashmir police approached the Pakistan high commission in Delhi and asked them to claim the body of Lashkar-e-Taiba (LeT) divisional commander Abu Dujana, killed by the security forces on Tuesday.Munir Khan, Inspector General of Police (IGP) Kashmir told reporters on Tuesday that Pakistan high commission has been approached to claim the body of Dujana, who belonged to Gilgit-Baltistan area in Pakistan-administered part of Kashmir.This is for the first time the authorities have approached Pakistan high commission asking them to claim the body of any Pakistani national killed in anti-militancy operations in Jammu and Kashmir.?If they don?t claim his body, we will give him a proper burial,? the IGP said, adding that authorities wished Dujana?s parents should see their son before burial and for that reason the Commission had been approached.Police refused to hand over Dujana?s body to the civilians for burial. The senior police officer said ?there was no reason to hand over the body of somebody to locals who did not belong to the Kashmir Valley?.Meanwhile, hundreds of mourners attended the burial of the other LeT militant Arif Lalihaari killed on Tuesday with Abu Dujana in Hakripora village.Arif was buried in his native Lalihaar village of Pulwama districton Tuesday evening.\""
   ]
  },
  {
   "cell_type": "code",
   "execution_count": 10,
   "metadata": {},
   "outputs": [
    {
     "data": {
      "text/plain": [
       "'Jammu and Kashmir police approached the Pakistan high commission in Delhi and asked them to claim the body of Lashkar-e-Taiba (LeT) divisional commander Abu Dujana, killed by the security forces on Tuesday.Munir Khan, Inspector General of Police (IGP) Kashmir told reporters on Tuesday that Pakistan high commission has been approached to claim the body of Dujana, who belonged to Gilgit-Baltistan area in Pakistan-administered part of Kashmir.This is for the first time the authorities have approached Pakistan high commission asking them to claim the body of any Pakistani national killed in anti-militancy operations in Jammu and Kashmir.?If they don?t claim his body, we will give him a proper burial,? the IGP said, adding that authorities wished Dujana?s parents should see their son before burial and for that reason the Commission had been approached.Police refused to hand over Dujana?s body to the civilians for burial. The senior police officer said ?there was no reason to hand over the body of somebody to locals who did not belong to the Kashmir Valley?.Meanwhile, hundreds of mourners attended the burial of the other LeT militant Arif Lalihaari killed on Tuesday with Abu Dujana in Hakripora village.Arif was buried in his native Lalihaar village of Pulwama districton Tuesday evening.'"
      ]
     },
     "execution_count": 10,
     "metadata": {},
     "output_type": "execute_result"
    }
   ],
   "source": [
    "text"
   ]
  },
  {
   "cell_type": "code",
   "execution_count": 11,
   "metadata": {},
   "outputs": [],
   "source": [
    "from newspaper import Article\n",
    "article=Article('https://www.huffpost.com/entry/tucker-carlson-joe-biden-fox-news-chyron_n_604adcccc5b60e0725f60f89', keep_article_html=True)\n",
    "article.download()\n",
    "article.parse()\n",
    "textH = article.text"
   ]
  },
  {
   "cell_type": "code",
   "execution_count": 12,
   "metadata": {},
   "outputs": [],
   "source": [
    "#tokens = tokenizer(text,return_tensors=\"tf\")"
   ]
  },
  {
   "cell_type": "code",
   "execution_count": 40,
   "metadata": {},
   "outputs": [],
   "source": [
    "tokens = tokenizer(textH)"
   ]
  },
  {
   "cell_type": "code",
   "execution_count": 42,
   "metadata": {},
   "outputs": [],
   "source": [
    "batch = dict(tokens)\n",
    "batch = [batch]"
   ]
  },
  {
   "cell_type": "code",
   "execution_count": 43,
   "metadata": {},
   "outputs": [],
   "source": [
    "input_data = {\"signature_name\": \"serving_default\",\"instances\": batch}\n",
    "input_data = json.dumps(input_data)"
   ]
  },
  {
   "cell_type": "code",
   "execution_count": 44,
   "metadata": {},
   "outputs": [],
   "source": [
    "r = requests.post(\"http://localhost:8501/v1/models/bart:predict\", data=input_data)"
   ]
  },
  {
   "cell_type": "code",
   "execution_count": 46,
   "metadata": {},
   "outputs": [],
   "source": [
    "result = json.loads(r.text)['predictions']"
   ]
  },
  {
   "cell_type": "code",
   "execution_count": 49,
   "metadata": {},
   "outputs": [
    {
     "name": "stdout",
     "output_type": "stream",
     "text": [
      "[[19360, 19360, 5, 1692, 6, 2063, 21, 48, 36797, 196, 17, 46, 7, 5, 1901, 19, 10, 651, 9, 17081, 11667, 15, 588, 697, 738, 15, 5, 795, 2797, 9, 5, 2441, 25, 2, 21, 39, 2473, 6, 15503, 16430, 39, 9927, 8, 8, 4610, 196, 39, 27423, 8, 9316, 2544, 196, 25, 15478, 3244, 59, 5, 1226, 17, 27, 29, 1032, 2168, 136, 10, 43814, 12, 1646, 6, 2, 2, 2, 48, 565, 12145, 16, 28, 1550, 131, 13336, 16, 15, 143, 2289, 6, 17, 46, 5, 1855, 219, 2839, 1166, 25, 5, 8144, 62, 39, 4166, 4, 41, 33366, 706, 728, 4, 2, 1901, 6, 807, 140, 6, 162, 463, 3215, 15, 935, 13, 23, 513, 41, 1946, 11, 1939, 13467, 8, 5705, 33712, 160, 12, 45260, 4, 2, 2, 2, 21, 10, 17, 27, 29, 78, 2654, 12, 958, 1100, 31, 5, 735, 446, 4, 2, 585, 37, 21, 13062, 982, 7, 146, 10, 43814, 12, 1646, 16968, 577, 7, 70, 3362, 30, 392, 112, 4, 5, 1226, 1388, 7, 2168, 10, 23387, 14414, 14, 34, 1695, 55, 87, 30488, 6, 151, 1074, 11, 5, 121, 4, 104, 4, 2, 26, 89, 21, 10, 44, 48, 8396, 778, 17, 46, 14, 44, 48, 6968, 6, 110, 284, 8, 964, 17, 46, 115, 3379, 561, 30, 5, 11035, 9, 550, 4, 2, 2, 2, 12145, 17, 8686, 44, 48, 705, 16003, 4157, 3474, 17, 46, 136, 3102, 1791, 4, 33, 57, 3656, 11, 10, 18856, 346, 9, 1912, 655, 187, 140, 6102, 436, 13, 5, 34377, 1469, 19473, 4, 747, 634, 7159, 31484, 11, 13467, 59, 24, 4, 2, 2, 2, 13336, 59, 99, 5, 394, 9, 5, 1226, 56, 7, 224, 6, 905, 17, 27, 29, 517, 15, 7, 15988, 6, 2063, 491, 174, 63, 2437, 4, 2, 2, 2, 1478, 373, 31249, 373, 15478, 1901, 44, 48, 12557, 8726, 6, 17, 46, 101, 10, 3366, 48, 24009, 13931, 6, 2, 46, 2, 67, 596, 15478, 399, 17, 27, 90, 4521, 44, 48, 1250, 9, 5, 82, 54, 429, 45, 236, 7, 185, 5, 738, 4, 2, 46, 2, 2, 2, 67, 373, 11, 22228, 6, 6477, 15478, 8, 33708, 154, 961, 35, 2, 48, 12375, 32, 47, 1686, 7, 116, 2, 16, 10, 481, 247, 4, 2, 16, 10, 481, 247, 4, 2, 19046, 47, 1137, 201, 54, 52, 64, 1930, 5, 11035, 9, 550, 19, 116, 2, 46, 2, 2, 2, 25285, 24955, 6, 15, 15478, 7, 3392, 140, 6, 5, 313, 54, 3987, 2966, 1791, 7, 8861, 474, 22354, 25, 5, 1226, 17, 27, 29, 6247, 43814, 12, 1646, 744, 5831, 14622, 7, 5, 1609, 11, 5, 232, 1592, 2, 2, 2, 268, 58, 213, 4311, 119, 10074, 4, 2, 2, 2, 270, 16, 6477, 5, 65, 76, 4038, 9, 10, 23387, 14414, 14, 848, 848, 55, 87, 457, 10, 153, 1791, 8, 42, 16, 141, 2063, 16, 4631, 24, 4, 2, 4, 1556, 4, 175, 73, 11579, 13022, 506, 30542, 438, 6232, 93, 295, 967, 3144, 475, 7309, 2279, 19634, 1977, 13208, 838, 38334, 3144, 13564, 500, 43, 494, 316, 6, 8835, 2, 2, 2, 16, 86, 13336, 4536, 15, 2063, 491, 10, 319, 2, 4, 2, 4, 175, 73, 134, 35684, 288, 242, 487, 7164, 15426, 93, 2150, 2588, 4082, 838, 19860, 23453, 4082, 43, 494, 316, 6, 8835, 2, 2, 2, 2, 2, 787, 565, 5532, 1146, 63, 92, 787, 565, 21028, 22591, 1478, 4536, 124, 23, 5, 253, 9, 15478, 17, 27, 29, 1901, 2, 4420, 961, 35, 42, 16, 588, 43, 2, 4, 2, 4, 175, 73, 11579, 1301, 605, 3367, 242, 398, 21265, 534, 2, 2150, 2588, 4082, 838, 19860, 23453, 4082, 43, 494, 316, 6, 8835, 2, 2, 2, 17, 27, 29, 10, 316, 12, 793, 19, 117, 14929, 4, 2, 2, 2, 2, 8494, 18421, 868, 2, 37, 1388, 7, 1095, 7460, 4, 2, 20360, 19878, 6852, 838, 15964, 219, 1071, 4422, 29, 134, 43, 494, 316, 6, 8835, 2, 2, 2, 2653, 101, 41, 19543, 828, 2, 1813, 221, 5193, 36174, 27969, 2, 15691, 510, 5193, 5625, 43, 494, 316, 6, 8835, 2, 2, 2, 6460, 107, 6, 52, 13165, 7, 5, 320, 394, 1067, 11, 13820, 6, 7230, 1003, 6, 8, 224, 10, 1086, 319, 9, 1085, 2, 2, 2, 6, 2, 565, 21028, 22591, 1478, 2, 2, 17, 27, 29, 1901, 44, 48, 1694, 8726, 6, 46, 2, 2, 48, 1694, 8602, 2, 2, 46, 2, 2230, 21, 33139, 1527, 2, 2, 11305, 8, 29977, 4312, 116, 2, 708, 116, 2, 2722, 118, 42264, 611, 1396, 2, 20907, 118, 42264, 611, 1396, 2, 2, 316, 6, 8835, 2]]\n"
     ]
    }
   ],
   "source": [
    "print(result)"
   ]
  },
  {
   "cell_type": "code",
   "execution_count": 50,
   "metadata": {},
   "outputs": [],
   "source": [
    "output = [tokenizer.decode(g, skip_special_tokens=True, clean_up_tokenization_spaces=False) for g in result]"
   ]
  },
  {
   "cell_type": "code",
   "execution_count": 51,
   "metadata": {},
   "outputs": [
    {
     "data": {
      "text/plain": [
       "['FoxFox the middle, Fox was�responded” to the speech with a series of grimaces on real live shot on the lower corner of the screen as was his eyes, furitted his teeth and androwed his brow and squinted as Biden talked about the nation’s fight battle against aVID-19,�Tiden is be finished; Tucker is on any minute,” the chyron read as the wrapped up his remarks. an economical 24 minutes. speech, Donald Trump, meandered on air for at least an hour in presidential speeches and frequently wandered off-topic. was a’s first prime-time address from the White House. announced he was directing states to make aVID-19 vaccines available to all adults by May 1. the nation continues to battle a pandemic that has claimed more than 530,000 lives in the U.S. said there was a “good chance” that “you, your family and friends” could celebrate together by the Fourth of July.iden� condemned “vicious hate crimes” against Asian Americans. have been targeted in a surging number of attacks ever since Trump blamed China for the coronavirus. often using racist slurs in speeches about it. Tucker about what the president of the nation had to say, let’s move on to Carlson, Fox News told its audience.son calledicably called Biden speech “surreal,” like a dream�dream sequence,� also why Biden didn’t mention “all of the people who might not want to take the shot.� also called in fury, addressing Biden and perplexing everyone:�Who are you talking to? is a free country. is a free country. dare you tell us who we can spend the Fourth of July with?�Sean Hannity, on Biden to thank Trump, the man who repeatedly urged Americans to ignore health precautions as the nation’s COVID-19 death toll soared to the highest in the world.)ers were gobsmacked. President is addressing the one year anniversary of a pandemic that killed killed more than half a million Americans and this is how Fox is covering it..twitter.com/CDHDfHOc84 — nikki mccann ramírez (@NikkiMcR) March 12, 2021 is time Tucker Cam on Fox News a lot..com/1Si0eNCTAf — Matt Laslo (@MattLaslo) March 12, 2021 @TNews brought its new @TuckerCarlson Cam back at the end of Biden’s speech yes everyone: this is real)..com/CDZw36e8BFG Matt Laslo (@MattLaslo) March 12, 2021’s a 12- old with no filter.believable he continues to stay employed. Marty Kearns (@martykearns1) March 12, 2021 feels like an onion bit Thomas Paine ✊TomPaineToday) March 12, 2021get years, we listened to the former president talk in circles, repeat himself, and say a whole lot of nothing,TuckerCarlson’s speech “wereal,��weird� exactly was baffling sentences and coherent thoughts? plans? JackiSchechnerJackiSchechner 12, 2021']"
      ]
     },
     "execution_count": 51,
     "metadata": {},
     "output_type": "execute_result"
    }
   ],
   "source": [
    "output"
   ]
  },
  {
   "cell_type": "code",
   "execution_count": 52,
   "metadata": {},
   "outputs": [
    {
     "data": {
      "text/plain": [
       "\"In the meantime, Carlson “responded” to the speech with a series of grimaces in a live shot in a lower corner of the screen. He rolled his eyes, gritted his teeth, furrowed his brow and squinted as Biden talked about the nation’s continued battle against COVID-19.\\n\\n“Biden should be finished; Tucker is on any minute,” the chyron read as Biden wrapped up his remarks after an economical 24 minutes. His predecessor, Donald Trump often meandered on air for at least an hour in presidential speeches and frequently wandered off-topic.\\n\\nIt was Biden’s first prime-time address from the White House. He announced he was directing states to make COVID-19 vaccines available to all adults by May 1 as the nation continues to battle a pandemic that has claimed more than 530,000 lives in the U.S. He said there was a “good chance” that “you, your family and friends” could celebrate together by the Fourth of July.\\n\\nBiden also condemned “vicious hate crimes” against Asian Americans who have been targeted in a surging number of attacks ever since Trump blamed China for the coronavirus, often using racist slurs in speeches about it.\\n\\nBut enough about what the president of the nation had to say, let’s move on to Carlson, Fox News told its audience.\\n\\nCarlson inexplicably called the speech “surreal,” like a “dream sequence.” He wondered why Biden didn’t mention “all of the people who might not want to take the shot.”\\n\\nHe also added in fury, addressing Biden and perplexing everyone: “Who are you talking to? This is a free people. This is a free country. How dare you tell us who we can spend the Fourth of July with?”\\n\\n(Sean Hannity called on Biden to thank Trump, the man who repeatedly urged Americans to ignore health precautions as the nation’s COVID-19 death toll soared to the highest in the world.)\\n\\nViewers were gobsmacked.\\n\\nThe President is addressing the one year anniversary of a pandemic that's killed more than half a million Americans and this is how Fox is covering it. pic.twitter.com/CDHDfHOc84 — nikki mccann ramírez (@NikkiMcR) March 12, 2021\\n\\nThis real time Tucker Cam on Fox is a lot pic.twitter.com/1Si0eNCTAf — Matt Laslo (@MattLaslo) March 12, 2021\\n\\nNEWS: Then @FoxNews brought its new @TuckerCarlson Cam back at the end of Biden’s speech (& yes everyone: this is real) pic.twitter.com/yZw36e8BFG — Matt Laslo (@MattLaslo) March 12, 2021\\n\\nHe’s a 12 year old with no filter.\\n\\n\\n\\nUnbelievable that he continues to stay employed. — Marty Kearns (@martykearns1) March 12, 2021\\n\\nit feels like an onion bit — Thomas Paine ✊ (@TomPaineToday) March 12, 2021\\n\\nFor four years, we listened to the former president talk in circles, repeat himself, and say a whole lot of nothing, but tonight, @TuckerCarlson called Biden’s speech “surreal” and “weird.” What exactly was baffling? Complete sentences and coherent thoughts? Actual plans? — JackiSchechner (@JackiSchechner) March 12, 2021\""
      ]
     },
     "execution_count": 52,
     "metadata": {},
     "output_type": "execute_result"
    }
   ],
   "source": [
    "textH"
   ]
  },
  {
   "cell_type": "code",
   "execution_count": null,
   "metadata": {},
   "outputs": [],
   "source": []
  }
 ],
 "metadata": {
  "kernelspec": {
   "display_name": "Python 3",
   "language": "python",
   "name": "python3"
  },
  "language_info": {
   "codemirror_mode": {
    "name": "ipython",
    "version": 3
   },
   "file_extension": ".py",
   "mimetype": "text/x-python",
   "name": "python",
   "nbconvert_exporter": "python",
   "pygments_lexer": "ipython3",
   "version": "3.8.8"
  }
 },
 "nbformat": 4,
 "nbformat_minor": 4
}
